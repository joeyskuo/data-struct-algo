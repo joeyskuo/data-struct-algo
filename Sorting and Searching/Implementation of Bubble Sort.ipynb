{
 "cells": [
  {
   "cell_type": "markdown",
   "metadata": {},
   "source": [
    "# Implementation of Bubble Sort"
   ]
  },
  {
   "cell_type": "markdown",
   "metadata": {},
   "source": [
    "#### Algorithm"
   ]
  },
  {
   "cell_type": "code",
   "execution_count": 38,
   "metadata": {
    "collapsed": true
   },
   "outputs": [],
   "source": [
    "def bubblesort(arr):\n",
    "    for limit in (range(len(arr)-1,-1,-1)):\n",
    "        index = 0\n",
    "        swaps = 0\n",
    "        while index < limit:\n",
    "            if arr[index] > arr[index+1]:\n",
    "                (arr[index],arr[index+1]) = (arr[index+1],arr[index])\n",
    "                swaps += 1\n",
    "            index += 1\n",
    "        if not swaps:\n",
    "            break\n",
    "            "
   ]
  },
  {
   "cell_type": "markdown",
   "metadata": {},
   "source": [
    "#### Results"
   ]
  },
  {
   "cell_type": "code",
   "execution_count": 39,
   "metadata": {
    "collapsed": false
   },
   "outputs": [
    {
     "name": "stdout",
     "output_type": "stream",
     "text": [
      "Random Array:\n"
     ]
    },
    {
     "data": {
      "text/plain": [
       "array([42, 39,  1, 20,  2, 23, 39, 18, 47, 42,  6, 13, 45, 22, 21, 34, 19,\n",
       "       30,  5, 15])"
      ]
     },
     "execution_count": 39,
     "metadata": {},
     "output_type": "execute_result"
    }
   ],
   "source": [
    "import numpy as np\n",
    "\n",
    "arr = np.random.randint(1,50,20)\n",
    "print(\"Random Array:\")\n",
    "arr"
   ]
  },
  {
   "cell_type": "code",
   "execution_count": 40,
   "metadata": {
    "collapsed": false
   },
   "outputs": [
    {
     "name": "stdout",
     "output_type": "stream",
     "text": [
      "Sorted Array:\n"
     ]
    },
    {
     "data": {
      "text/plain": [
       "array([ 1,  2,  5,  6, 13, 15, 18, 19, 20, 21, 22, 23, 30, 34, 39, 39, 42,\n",
       "       42, 45, 47])"
      ]
     },
     "execution_count": 40,
     "metadata": {},
     "output_type": "execute_result"
    }
   ],
   "source": [
    "bubblesort(arr)\n",
    "print(\"Sorted Array:\")\n",
    "arr"
   ]
  },
  {
   "cell_type": "code",
   "execution_count": null,
   "metadata": {
    "collapsed": true
   },
   "outputs": [],
   "source": []
  }
 ],
 "metadata": {
  "kernelspec": {
   "display_name": "Python [conda root]",
   "language": "python",
   "name": "conda-root-py"
  },
  "language_info": {
   "codemirror_mode": {
    "name": "ipython",
    "version": 3
   },
   "file_extension": ".py",
   "mimetype": "text/x-python",
   "name": "python",
   "nbconvert_exporter": "python",
   "pygments_lexer": "ipython3",
   "version": "3.5.2"
  }
 },
 "nbformat": 4,
 "nbformat_minor": 1
}
