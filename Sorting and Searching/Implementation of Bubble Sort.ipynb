{
 "cells": [
  {
   "cell_type": "markdown",
   "metadata": {},
   "source": [
    "# Implementation of Bubble Sort"
   ]
  },
  {
   "cell_type": "markdown",
   "metadata": {},
   "source": [
    "#### Algorithm"
   ]
  },
  {
   "cell_type": "code",
   "execution_count": 27,
   "metadata": {
    "collapsed": true
   },
   "outputs": [],
   "source": [
    "def bubblesort(arr):\n",
    "    for limit in reversed(range(len(arr))):\n",
    "        index = 0\n",
    "        swaps = 0\n",
    "        while index < limit:\n",
    "            if arr[index] > arr[index+1]:\n",
    "                (arr[index],arr[index+1]) = (arr[index+1],arr[index])\n",
    "                swaps += 1\n",
    "            index += 1\n",
    "        if not swaps:\n",
    "            break\n",
    "            "
   ]
  },
  {
   "cell_type": "markdown",
   "metadata": {},
   "source": [
    "#### Results"
   ]
  },
  {
   "cell_type": "code",
   "execution_count": 23,
   "metadata": {
    "collapsed": false
   },
   "outputs": [
    {
     "name": "stdout",
     "output_type": "stream",
     "text": [
      "Random Array:\n"
     ]
    },
    {
     "data": {
      "text/plain": [
       "array([16, 21, 35, 32, 11, 37, 34, 24,  2, 49,  4, 18,  5, 11, 21,  1, 21,\n",
       "       10, 18, 17])"
      ]
     },
     "execution_count": 23,
     "metadata": {},
     "output_type": "execute_result"
    }
   ],
   "source": [
    "import numpy as np\n",
    "\n",
    "arr = np.random.randint(1,50,20)\n",
    "print(\"Random Array:\")\n",
    "arr"
   ]
  },
  {
   "cell_type": "code",
   "execution_count": 28,
   "metadata": {
    "collapsed": false
   },
   "outputs": [
    {
     "name": "stdout",
     "output_type": "stream",
     "text": [
      "Sorted Array:\n"
     ]
    },
    {
     "data": {
      "text/plain": [
       "array([ 1,  2,  4,  5, 10, 11, 11, 16, 17, 18, 18, 21, 21, 21, 24, 32, 34,\n",
       "       35, 37, 49])"
      ]
     },
     "execution_count": 28,
     "metadata": {},
     "output_type": "execute_result"
    }
   ],
   "source": [
    "bubblesort(arr)\n",
    "print(\"Sorted Array:\")\n",
    "arr"
   ]
  }
 ],
 "metadata": {
  "kernelspec": {
   "display_name": "Python [conda root]",
   "language": "python",
   "name": "conda-root-py"
  },
  "language_info": {
   "codemirror_mode": {
    "name": "ipython",
    "version": 3
   },
   "file_extension": ".py",
   "mimetype": "text/x-python",
   "name": "python",
   "nbconvert_exporter": "python",
   "pygments_lexer": "ipython3",
   "version": "3.5.2"
  }
 },
 "nbformat": 4,
 "nbformat_minor": 1
}
