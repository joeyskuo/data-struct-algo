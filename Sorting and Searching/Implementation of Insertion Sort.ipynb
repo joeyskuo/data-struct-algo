{
 "cells": [
  {
   "cell_type": "markdown",
   "metadata": {},
   "source": [
    "# Implementation of Insertion Sort"
   ]
  },
  {
   "cell_type": "markdown",
   "metadata": {},
   "source": [
    "#### Algorithm"
   ]
  },
  {
   "cell_type": "code",
   "execution_count": 54,
   "metadata": {
    "collapsed": false
   },
   "outputs": [],
   "source": [
    "def insort(arr):\n",
    "    for lead in range(1,len(arr)):\n",
    "        val = arr.pop(lead)\n",
    "        slot = lead\n",
    "        if val > arr[slot-1]:\n",
    "            arr.insert(slot, val)\n",
    "            continue\n",
    "        while val < arr[slot-1] and slot > 0:\n",
    "            slot -= 1\n",
    "        arr.insert(slot, val)"
   ]
  },
  {
   "cell_type": "markdown",
   "metadata": {},
   "source": [
    "#### Results"
   ]
  },
  {
   "cell_type": "code",
   "execution_count": 55,
   "metadata": {
    "collapsed": false
   },
   "outputs": [
    {
     "name": "stdout",
     "output_type": "stream",
     "text": [
      "Random List:\n"
     ]
    },
    {
     "data": {
      "text/plain": [
       "[40, 10, 25, 16, 4, 1, 2, 45, 20, 23, 21, 45, 47, 13, 28, 2, 27, 24, 35, 18]"
      ]
     },
     "execution_count": 55,
     "metadata": {},
     "output_type": "execute_result"
    }
   ],
   "source": [
    "import numpy as np\n",
    "\n",
    "arr = np.ndarray.tolist(np.random.randint(1,50,20))\n",
    "print(\"Random List:\")\n",
    "arr"
   ]
  },
  {
   "cell_type": "code",
   "execution_count": 56,
   "metadata": {
    "collapsed": false
   },
   "outputs": [
    {
     "name": "stdout",
     "output_type": "stream",
     "text": [
      "Sorted List:\n"
     ]
    },
    {
     "data": {
      "text/plain": [
       "[1, 2, 2, 4, 10, 13, 16, 18, 20, 21, 23, 24, 25, 27, 28, 35, 40, 45, 45, 47]"
      ]
     },
     "execution_count": 56,
     "metadata": {},
     "output_type": "execute_result"
    }
   ],
   "source": [
    "insort(arr)\n",
    "print(\"Sorted List:\")\n",
    "arr"
   ]
  }
 ],
 "metadata": {
  "kernelspec": {
   "display_name": "Python [conda root]",
   "language": "python",
   "name": "conda-root-py"
  },
  "language_info": {
   "codemirror_mode": {
    "name": "ipython",
    "version": 3
   },
   "file_extension": ".py",
   "mimetype": "text/x-python",
   "name": "python",
   "nbconvert_exporter": "python",
   "pygments_lexer": "ipython3",
   "version": "3.5.2"
  }
 },
 "nbformat": 4,
 "nbformat_minor": 1
}
