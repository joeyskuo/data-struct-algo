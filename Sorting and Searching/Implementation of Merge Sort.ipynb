{
 "cells": [
  {
   "cell_type": "markdown",
   "metadata": {},
   "source": [
    "# Implementation of Merge Sort"
   ]
  },
  {
   "cell_type": "markdown",
   "metadata": {
    "collapsed": true
   },
   "source": [
    "#### Algorithm"
   ]
  },
  {
   "cell_type": "code",
   "execution_count": 81,
   "metadata": {
    "collapsed": false
   },
   "outputs": [],
   "source": [
    "def mergesort(arr):\n",
    "    \n",
    "    # Base Case\n",
    "    if len(arr)<=1:\n",
    "        return arr\n",
    "    \n",
    "    mid = len(arr)//2\n",
    "    \n",
    "    if len(arr) > 1:\n",
    "        left = mergesort(arr[:mid])\n",
    "        right = mergesort(arr[mid:])\n",
    "        \n",
    "     \n",
    "    merged = left + right\n",
    "    \n",
    "    for index in range(1,len(merged)):\n",
    "        pos = index\n",
    "        while merged[pos] < merged[pos-1] and pos:\n",
    "            (merged[pos-1],merged[pos]) = (merged[pos],merged[pos-1])\n",
    "            pos -= 1\n",
    "    return merged            \n",
    "        \n",
    "        \n",
    "        "
   ]
  },
  {
   "cell_type": "markdown",
   "metadata": {},
   "source": [
    "#### Results"
   ]
  },
  {
   "cell_type": "code",
   "execution_count": 82,
   "metadata": {
    "collapsed": false
   },
   "outputs": [
    {
     "name": "stdout",
     "output_type": "stream",
     "text": [
      "Random Array:\n"
     ]
    },
    {
     "data": {
      "text/plain": [
       "[45, 44, 27, 26, 8, 14, 15, 21, 40, 36, 17, 35, 6, 2, 30, 28, 23, 1, 14, 26]"
      ]
     },
     "execution_count": 82,
     "metadata": {},
     "output_type": "execute_result"
    }
   ],
   "source": [
    "import numpy as np\n",
    "\n",
    "arr = np.ndarray.tolist(np.random.randint(1,50,20))\n",
    "print(\"Random Array:\")\n",
    "arr"
   ]
  },
  {
   "cell_type": "code",
   "execution_count": 83,
   "metadata": {
    "collapsed": false
   },
   "outputs": [
    {
     "name": "stdout",
     "output_type": "stream",
     "text": [
      "Sorted Array:\n",
      "[1, 2, 6, 8, 14, 14, 15, 17, 21, 23, 26, 26, 27, 28, 30, 35, 36, 40, 44, 45]\n"
     ]
    }
   ],
   "source": [
    "print(\"Sorted Array:\")\n",
    "print(mergesort(arr))"
   ]
  }
 ],
 "metadata": {
  "kernelspec": {
   "display_name": "Python [conda root]",
   "language": "python",
   "name": "conda-root-py"
  },
  "language_info": {
   "codemirror_mode": {
    "name": "ipython",
    "version": 3
   },
   "file_extension": ".py",
   "mimetype": "text/x-python",
   "name": "python",
   "nbconvert_exporter": "python",
   "pygments_lexer": "ipython3",
   "version": "3.5.2"
  }
 },
 "nbformat": 4,
 "nbformat_minor": 1
}
