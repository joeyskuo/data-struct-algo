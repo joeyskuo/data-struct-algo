{
 "cells": [
  {
   "cell_type": "markdown",
   "metadata": {},
   "source": [
    "# Implementation of Quick Sort"
   ]
  },
  {
   "cell_type": "markdown",
   "metadata": {
    "collapsed": false
   },
   "source": [
    "#### Algorithm"
   ]
  },
  {
   "cell_type": "code",
   "execution_count": 37,
   "metadata": {
    "collapsed": true
   },
   "outputs": [],
   "source": [
    "def quicksort(arr):\n",
    "    \n",
    "    if len(arr) <= 1:\n",
    "        return arr\n",
    "    \n",
    "    left = 1\n",
    "    right = len(arr)-1\n",
    "    \n",
    "    pivot = arr[0]\n",
    "    print(\"sorting sub-array {}\".format(arr))\n",
    "    while left < right:\n",
    "        while arr[left] < pivot and left < len(arr)-1:\n",
    "            left += 1\n",
    "\n",
    "        while arr[right] > pivot and right > left:\n",
    "            right -= 1\n",
    "            \n",
    "        if left < right:\n",
    "            print(\"\\t\\tswapping {} with {}\".format(arr[left],arr[right]))\n",
    "            \n",
    "            (arr[left],arr[right]) = (arr[right],arr[left])\n",
    "            left += 1\n",
    "        \n",
    "    # special case where pivot is maximum    \n",
    "    if left == len(arr)-1 and arr[left] < pivot:\n",
    "        leftarr = quicksort(arr[1:len(arr)])\n",
    "        rightarr = []\n",
    "    else:\n",
    "        leftarr = quicksort(arr[1:left])\n",
    "        rightarr = quicksort(arr[right:])\n",
    "\n",
    "        print(\"\\t\\tAdding {} + {} + {}\".format(leftarr, [pivot],rightarr))\n",
    "    \n",
    "    return leftarr+[pivot]+rightarr"
   ]
  },
  {
   "cell_type": "markdown",
   "metadata": {},
   "source": [
    "#### Results"
   ]
  },
  {
   "cell_type": "code",
   "execution_count": 38,
   "metadata": {
    "collapsed": false
   },
   "outputs": [
    {
     "name": "stdout",
     "output_type": "stream",
     "text": [
      "Random Array:\n"
     ]
    },
    {
     "data": {
      "text/plain": [
       "[21, 42, 4, 13, 34, 36, 39, 13, 46, 5, 43, 40, 42, 11, 30, 6, 48, 17, 17, 33]"
      ]
     },
     "execution_count": 38,
     "metadata": {},
     "output_type": "execute_result"
    }
   ],
   "source": [
    "import numpy as np\n",
    "\n",
    "array = np.ndarray.tolist(np.random.randint(1,50,20))\n",
    "print(\"Random Array:\")\n",
    "array"
   ]
  },
  {
   "cell_type": "code",
   "execution_count": 39,
   "metadata": {
    "collapsed": false
   },
   "outputs": [
    {
     "name": "stdout",
     "output_type": "stream",
     "text": [
      "sorting sub-array [21, 42, 4, 13, 34, 36, 39, 13, 46, 5, 43, 40, 42, 11, 30, 6, 48, 17, 17, 33]\n",
      "\t\tswapping 42 with 17\n",
      "\t\tswapping 34 with 17\n",
      "\t\tswapping 36 with 6\n",
      "\t\tswapping 39 with 11\n",
      "\t\tswapping 46 with 5\n",
      "sorting sub-array [17, 4, 13, 17, 6, 11, 13, 5]\n",
      "\t\tswapping 17 with 5\n",
      "sorting sub-array [4, 13, 5, 6, 11, 13]\n",
      "sorting sub-array [13, 5, 6, 11, 13]\n",
      "sorting sub-array [5, 6, 11]\n",
      "sorting sub-array [6, 11]\n",
      "\t\tAdding [] + [6] + [11]\n",
      "\t\tAdding [] + [5] + [6, 11]\n",
      "\t\tAdding [5, 6, 11] + [13] + [13]\n",
      "\t\tAdding [] + [4] + [5, 6, 11, 13, 13]\n",
      "\t\tAdding [4, 5, 6, 11, 13, 13] + [17] + [17]\n",
      "sorting sub-array [46, 43, 40, 42, 39, 30, 36, 48, 34, 42, 33]\n",
      "\t\tswapping 48 with 33\n",
      "sorting sub-array [43, 40, 42, 39, 30, 36, 33, 34, 42]\n",
      "sorting sub-array [40, 42, 39, 30, 36, 33, 34, 42]\n",
      "\t\tswapping 42 with 34\n",
      "sorting sub-array [34, 39, 30, 36, 33]\n",
      "\t\tswapping 39 with 33\n",
      "sorting sub-array [33, 30]\n",
      "sorting sub-array [36, 39]\n",
      "\t\tAdding [] + [36] + [39]\n",
      "\t\tAdding [30, 33] + [34] + [36, 39]\n",
      "sorting sub-array [42, 42]\n",
      "\t\tAdding [] + [42] + [42]\n",
      "\t\tAdding [30, 33, 34, 36, 39] + [40] + [42, 42]\n",
      "\t\tAdding [30, 33, 34, 36, 39, 40, 42, 42, 43] + [46] + [48]\n",
      "\t\tAdding [4, 5, 6, 11, 13, 13, 17, 17] + [21] + [30, 33, 34, 36, 39, 40, 42, 42, 43, 46, 48]\n"
     ]
    }
   ],
   "source": [
    "sortedarr = quicksort(array)"
   ]
  },
  {
   "cell_type": "code",
   "execution_count": 40,
   "metadata": {
    "collapsed": false
   },
   "outputs": [
    {
     "name": "stdout",
     "output_type": "stream",
     "text": [
      "Inital Array: \n",
      "\t [21, 17, 4, 13, 17, 6, 11, 13, 5, 46, 43, 40, 42, 39, 30, 36, 48, 34, 42, 33]\n",
      "Sorted Array: \n",
      "\t [4, 5, 6, 11, 13, 13, 17, 17, 21, 30, 33, 34, 36, 39, 40, 42, 42, 43, 46, 48]\n"
     ]
    }
   ],
   "source": [
    "print(\"Inital Array: \\n\\t\", array)\n",
    "print(\"Sorted Array: \\n\\t\", sortedarr)"
   ]
  },
  {
   "cell_type": "code",
   "execution_count": null,
   "metadata": {
    "collapsed": true
   },
   "outputs": [],
   "source": []
  }
 ],
 "metadata": {
  "anaconda-cloud": {},
  "kernelspec": {
   "display_name": "Python [conda root]",
   "language": "python",
   "name": "conda-root-py"
  },
  "language_info": {
   "codemirror_mode": {
    "name": "ipython",
    "version": 3
   },
   "file_extension": ".py",
   "mimetype": "text/x-python",
   "name": "python",
   "nbconvert_exporter": "python",
   "pygments_lexer": "ipython3",
   "version": "3.5.2"
  }
 },
 "nbformat": 4,
 "nbformat_minor": 1
}
