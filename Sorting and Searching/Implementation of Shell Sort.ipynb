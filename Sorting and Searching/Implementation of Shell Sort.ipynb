{
 "cells": [
  {
   "cell_type": "markdown",
   "metadata": {},
   "source": [
    "# Implementation of Shell Sort"
   ]
  },
  {
   "cell_type": "markdown",
   "metadata": {
    "collapsed": true
   },
   "source": [
    "#### Algorithm"
   ]
  },
  {
   "cell_type": "code",
   "execution_count": 111,
   "metadata": {
    "collapsed": false
   },
   "outputs": [],
   "source": [
    "def shellsort(arr):\n",
    "    gap = 1\n",
    "    gaps = [1]\n",
    "    \n",
    "    while gap < len(arr):\n",
    "        gap = 3*gap+1\n",
    "        gaps.append(gap)\n",
    "        \n",
    "    for inc in gaps[::-1]:\n",
    "        for substart in range(inc):\n",
    "            sortedsub = insort([value for value in arr[substart::inc] if value])\n",
    "            arr[substart::inc] = sortedsub\n",
    "            \n",
    "        print(\"shell sort at increment {}:\".format(inc))\n",
    "        print(\"\\t\"*3, arr)\n",
    "            \n",
    "    "
   ]
  },
  {
   "cell_type": "code",
   "execution_count": 112,
   "metadata": {
    "collapsed": true
   },
   "outputs": [],
   "source": [
    "# Insertion sort for sub-array\n",
    "def insort(arr):\n",
    "    for lead in range(1,len(arr)):\n",
    "        val = arr.pop(lead)\n",
    "        slot = lead\n",
    "        if val > arr[slot-1]:\n",
    "            arr.insert(slot, val)\n",
    "            continue\n",
    "        while val < arr[slot-1] and slot > 0:\n",
    "            slot -= 1\n",
    "        arr.insert(slot, val)\n",
    "    return arr"
   ]
  },
  {
   "cell_type": "markdown",
   "metadata": {},
   "source": [
    "#### Results"
   ]
  },
  {
   "cell_type": "code",
   "execution_count": 113,
   "metadata": {
    "collapsed": false
   },
   "outputs": [
    {
     "name": "stdout",
     "output_type": "stream",
     "text": [
      "Random Array:\n"
     ]
    },
    {
     "data": {
      "text/plain": [
       "array([44, 12, 45, 34, 42, 40, 34, 22, 26, 28, 31,  5,  1, 31, 24, 25,  3,\n",
       "       34, 22, 48])"
      ]
     },
     "execution_count": 113,
     "metadata": {},
     "output_type": "execute_result"
    }
   ],
   "source": [
    "import numpy as np\n",
    "\n",
    "arr = np.random.randint(1,50,20)\n",
    "print(\"Random Array:\")\n",
    "arr"
   ]
  },
  {
   "cell_type": "code",
   "execution_count": 114,
   "metadata": {
    "collapsed": false
   },
   "outputs": [
    {
     "name": "stdout",
     "output_type": "stream",
     "text": [
      "shell sort at increment 40:\n",
      "\t\t\t [44 12 45 34 42 40 34 22 26 28 31  5  1 31 24 25  3 34 22 48]\n",
      "shell sort at increment 13:\n",
      "\t\t\t [31 12 25  3 34 22 34 22 26 28 31  5  1 44 24 45 34 42 40 48]\n",
      "shell sort at increment 4:\n",
      "\t\t\t [ 1 12 24  3 26 22 25  5 31 28 31 22 34 42 34 45 34 44 40 48]\n",
      "shell sort at increment 1:\n",
      "\t\t\t [ 1  3  5 12 22 22 24 25 26 28 31 31 34 34 34 40 42 44 45 48]\n"
     ]
    }
   ],
   "source": [
    "shellsort(arr)"
   ]
  }
 ],
 "metadata": {
  "anaconda-cloud": {},
  "kernelspec": {
   "display_name": "Python [conda root]",
   "language": "python",
   "name": "conda-root-py"
  },
  "language_info": {
   "codemirror_mode": {
    "name": "ipython",
    "version": 3
   },
   "file_extension": ".py",
   "mimetype": "text/x-python",
   "name": "python",
   "nbconvert_exporter": "python",
   "pygments_lexer": "ipython3",
   "version": "3.5.2"
  }
 },
 "nbformat": 4,
 "nbformat_minor": 1
}
