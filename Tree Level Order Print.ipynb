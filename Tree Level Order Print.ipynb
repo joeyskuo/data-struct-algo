{
 "cells": [
  {
   "cell_type": "markdown",
   "metadata": {},
   "source": [
    "# Tree Level Order Print \n",
    "\n",
    "Given a binary tree of integers, print it in level order. The output will contain space between the numbers in the same level, and new line between different levels. For example, if the tree is: \n",
    "___\n",
    "![title](tree_print.png)\n",
    "___\n",
    "The output should be: \n",
    "\n",
    "    1 \n",
    "    2 3 \n",
    "    4 5 6"
   ]
  },
  {
   "cell_type": "markdown",
   "metadata": {},
   "source": [
    "## Solution\n",
    "\n",
    "Fill out your solution below:"
   ]
  },
  {
   "cell_type": "code",
   "execution_count": 2,
   "metadata": {
    "collapsed": true
   },
   "outputs": [],
   "source": [
    "class Node:\n",
    "    def __init__(self, val=None):\n",
    "        self.left = None\n",
    "        self.right = None\n",
    "        self.val =  val \n",
    "        \n",
    "\n",
    "a = Node(1)\n",
    "a.left = Node(2)\n",
    "a.left.left = Node(4)\n",
    "a.right = Node(3)\n",
    "a.right.left = Node(5)\n",
    "a.right.right = Node(6)"
   ]
  },
  {
   "cell_type": "code",
   "execution_count": 3,
   "metadata": {
    "collapsed": false
   },
   "outputs": [
    {
     "name": "stdout",
     "output_type": "stream",
     "text": [
      "1\n",
      "2 3\n",
      "4 5 6\n"
     ]
    }
   ],
   "source": [
    "levels = {}\n",
    "\n",
    "def levelOrderCapture(tree, order=0):\n",
    "    if tree:\n",
    "        \n",
    "        if order not in levels:\n",
    "            levels[order] = [tree.val]\n",
    "        else:\n",
    "            levels[order].append(tree.val)\n",
    "        order += 1    \n",
    "        levelOrderCapture(tree.left, order)\n",
    "        levelOrderCapture(tree.right, order)\n",
    "\n",
    "            \n",
    "levelOrderCapture(a)\n",
    "\n",
    "for i in levels.keys():\n",
    "    print(*levels[i], sep=' ')"
   ]
  },
  {
   "cell_type": "code",
   "execution_count": null,
   "metadata": {
    "collapsed": true
   },
   "outputs": [],
   "source": []
  }
 ],
 "metadata": {
  "anaconda-cloud": {},
  "kernelspec": {
   "display_name": "Python [conda root]",
   "language": "python",
   "name": "conda-root-py"
  },
  "language_info": {
   "codemirror_mode": {
    "name": "ipython",
    "version": 3
   },
   "file_extension": ".py",
   "mimetype": "text/x-python",
   "name": "python",
   "nbconvert_exporter": "python",
   "pygments_lexer": "ipython3",
   "version": "3.5.2"
  }
 },
 "nbformat": 4,
 "nbformat_minor": 0
}
