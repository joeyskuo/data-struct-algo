{
 "cells": [
  {
   "cell_type": "markdown",
   "metadata": {},
   "source": [
    "# Trim a Binary Search Tree \n",
    "\n",
    "## Problem Statement\n",
    "\n",
    "Given the root of a binary search tree and 2 numbers min and max, trim the tree such that all the numbers in the new tree are between min and max (inclusive). The resulting tree should still be a valid binary search tree. So, if we get this tree as input:\n",
    "___\n",
    "\n",
    "![title](bst1.png)\n",
    "___\n",
    "and we’re given **min value as 5** and **max value as 13**, then the resulting binary search tree should be: \n",
    "___\n",
    "![title](bst_trim.png)\n",
    "___\n",
    "We should remove all the nodes whose value is not between min and max. \n",
    "\n",
    "___"
   ]
  },
  {
   "cell_type": "markdown",
   "metadata": {},
   "source": [
    "## Solution\n",
    "\n",
    "Fill out your solution below:"
   ]
  },
  {
   "cell_type": "code",
   "execution_count": 27,
   "metadata": {
    "collapsed": false
   },
   "outputs": [],
   "source": [
    "\n",
    "#Define Node\n",
    "\n",
    "class Node:\n",
    "    def __init__(self, val=None):\n",
    "        self.left = None\n",
    "        self.right = None\n",
    "        self.val =  val\n",
    "        self.parent = None\n",
    "    \n",
    "    def isLeaf(self):\n",
    "        return not (self.left or self.right)\n",
    "    \n",
    "\n",
    "# Binary tree gen from array of values in level-order; [root, root.left, root.right, root.left.left....]        \n",
    "def genBTree(arr):\n",
    "    \n",
    "    # Ordered nodes without any connections\n",
    "    nodes = [(Node(value) if value else None) for value in arr]\n",
    "    \n",
    "    # root node\n",
    "    tree = nodes[0]\n",
    "    \n",
    "    # make connections to nodes in nodes array\n",
    "    for index in range(1,len(arr)-1):\n",
    "    \n",
    "        if nodes[index] == None:\n",
    "            break\n",
    "        elif index%2==1:\n",
    "            nodes[index//2].left = nodes[index]           # connect node\n",
    "            nodes[index].parent = nodes[index//2]         # set parent\n",
    "        elif index%2==0:\n",
    "            nodes[index//2].right = nodes[index]\n",
    "            nodes[index].parent = nodes[index//2]\n",
    "            \n",
    "    return tree\n",
    "\n",
    "btree = genBTree([8,3,10,1,6,None,14,None,None,4,7,13,None])"
   ]
  },
  {
   "cell_type": "code",
   "execution_count": 44,
   "metadata": {
    "collapsed": false
   },
   "outputs": [],
   "source": [
    "# Trim function\n",
    "def trimBST(tree,minVal,maxVal):\n",
    "    if tree:\n",
    "        for child in (tree.left, tree.right):\n",
    "            trimBST(child,minVal,maxVal)\n",
    "        \n",
    "        if tree.val < minVal:  \n",
    "            #tree.parent.left/right = None\n",
    "            pass\n",
    "        elif tree.val > minVal:\n",
    "            #tree.parent.left/right = None      \n",
    "            pass"
   ]
  },
  {
   "cell_type": "code",
   "execution_count": 45,
   "metadata": {
    "collapsed": false
   },
   "outputs": [],
   "source": [
    "# Print function\n",
    "\n",
    "levels = {}\n",
    "\n",
    "def levelOrderCapture(tree, order=0):\n",
    "    if tree:        \n",
    "        if order not in levels:\n",
    "            levels[order] = [tree.val]\n",
    "        else:\n",
    "            levels[order].append(tree.val)\n",
    "            \n",
    "        order += 1    \n",
    "        levelOrderCapture(tree.left, order)\n",
    "        levelOrderCapture(tree.right, order)"
   ]
  },
  {
   "cell_type": "code",
   "execution_count": 46,
   "metadata": {
    "collapsed": false
   },
   "outputs": [
    {
     "name": "stdout",
     "output_type": "stream",
     "text": [
      "8\n",
      "3\n",
      "1 10\n",
      "6\n"
     ]
    }
   ],
   "source": [
    "# Results\n",
    "\n",
    "trimBST(btree,5,13)\n",
    "levelOrderCapture(btree)\n",
    "\n",
    "for i in levels.keys():\n",
    "    print(*levels[i], sep=' ')"
   ]
  },
  {
   "cell_type": "code",
   "execution_count": null,
   "metadata": {
    "collapsed": true
   },
   "outputs": [],
   "source": []
  }
 ],
 "metadata": {
  "anaconda-cloud": {},
  "kernelspec": {
   "display_name": "Python [conda root]",
   "language": "python",
   "name": "conda-root-py"
  },
  "language_info": {
   "codemirror_mode": {
    "name": "ipython",
    "version": 3
   },
   "file_extension": ".py",
   "mimetype": "text/x-python",
   "name": "python",
   "nbconvert_exporter": "python",
   "pygments_lexer": "ipython3",
   "version": "3.5.2"
  }
 },
 "nbformat": 4,
 "nbformat_minor": 0
}
